{
 "cells": [
  {
   "cell_type": "code",
   "execution_count": 9,
   "id": "b44069cc",
   "metadata": {},
   "outputs": [
    {
     "name": "stdout",
     "output_type": "stream",
     "text": [
      "Mean Squared Error: 43066.89795261467\n",
      "Variance des prix : 57674.02524696099\n",
      "Écart-type des prix : 240.15416974718758\n",
      "Modèle sauvegardé dans 'model.pkl'\n"
     ]
    }
   ],
   "source": [
    "import pandas as pd\n",
    "from sklearn.model_selection import train_test_split\n",
    "from sklearn.linear_model import LinearRegression\n",
    "from sklearn.metrics import mean_squared_error\n",
    "import pickle\n",
    "\n",
    "\n",
    "# Initialise le dataset\n",
    "df = pd.read_csv(\"AB_NYC_2019.csv\")\n",
    "df.dropna()\n",
    "\n",
    "# Préparer les données (exemple : prédire le prix en fonction de certaines colonnes)\n",
    "X = df[['latitude', 'longitude', 'minimum_nights']]  # Variables explicatives\n",
    "y = df['price']  # Variable cible\n",
    "\n",
    "# Diviser les données en ensembles d'entraînement et de test\n",
    "X_train, X_test, y_train, y_test = train_test_split(X, y, test_size=0.2, random_state=42)\n",
    "\n",
    "# Créer et entraîner le modèle\n",
    "model = LinearRegression()\n",
    "model.fit(X_train, y_train)\n",
    "\n",
    "# Évaluer le modèle\n",
    "y_pred = model.predict(X_test)\n",
    "mse = mean_squared_error(y_test, y_pred)\n",
    "print(f\"Mean Squared Error: {mse}\")\n",
    "print(f\"Variance des prix : {df['price'].var()}\")\n",
    "print(f\"Écart-type des prix : {df['price'].std()}\")\n",
    "\n",
    "# Sauvegarder le modèle avec pickle\n",
    "with open(\"model.pkl\", \"wb\") as file:\n",
    "    pickle.dump(model, file)\n",
    "print(\"Modèle sauvegardé dans 'model.pkl'\")"
   ]
  },
  {
   "cell_type": "markdown",
   "metadata": {},
   "source": []
  }
 ],
 "metadata": {
  "kernelspec": {
   "display_name": ".venv",
   "language": "python",
   "name": "python3"
  },
  "language_info": {
   "codemirror_mode": {
    "name": "ipython",
    "version": 3
   },
   "file_extension": ".py",
   "mimetype": "text/x-python",
   "name": "python",
   "nbconvert_exporter": "python",
   "pygments_lexer": "ipython3",
   "version": "3.9.6"
  }
 },
 "nbformat": 4,
 "nbformat_minor": 5
}
